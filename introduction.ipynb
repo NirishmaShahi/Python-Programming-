{
 "cells": [
  {
   "cell_type": "markdown",
   "metadata": {},
   "source": [
    "# Nirishma Shahi\n",
    "# Data Types\n",
    "  - Boolean\n",
    "  - String\n",
    "  - Number\n",
    "  - None"
   ]
  },
  {
   "cell_type": "markdown",
   "metadata": {},
   "source": [
    "# Python no 1 \n",
    "## This is my first hello world program in python."
   ]
  },
  {
   "cell_type": "code",
   "execution_count": 149,
   "metadata": {},
   "outputs": [
    {
     "name": "stdout",
     "output_type": "stream",
     "text": [
      "hello world\n"
     ]
    }
   ],
   "source": [
    "hello = \"hello world\"\n",
    "print(hello)\n"
   ]
  },
  {
   "cell_type": "markdown",
   "metadata": {},
   "source": [
    "# Python no. 2"
   ]
  },
  {
   "cell_type": "code",
   "execution_count": 150,
   "metadata": {},
   "outputs": [
    {
     "name": "stdout",
     "output_type": "stream",
     "text": [
      "3.14\n"
     ]
    }
   ],
   "source": [
    "pi = 3.14\n",
    "print (pi)"
   ]
  },
  {
   "cell_type": "markdown",
   "metadata": {},
   "source": [
    "# NUMBERS"
   ]
  },
  {
   "cell_type": "code",
   "execution_count": 151,
   "metadata": {},
   "outputs": [
    {
     "name": "stdout",
     "output_type": "stream",
     "text": [
      "<class 'int'>\n",
      "<class 'float'>\n"
     ]
    }
   ],
   "source": [
    "# int\n",
    "age = 20\n",
    "# float\n",
    "price = 10.5\n",
    "# imaginary\n",
    "real_imaginary = 1j\n",
    "print (type(age))\n",
    "print (type(price))\n"
   ]
  },
  {
   "cell_type": "markdown",
   "metadata": {},
   "source": [
    "# Arithematic Operations"
   ]
  },
  {
   "cell_type": "code",
   "execution_count": 152,
   "metadata": {},
   "outputs": [
    {
     "name": "stdout",
     "output_type": "stream",
     "text": [
      "0.5\n",
      "5\n",
      "65536\n"
     ]
    }
   ],
   "source": [
    "# addition\n",
    "a = 5\n",
    "b = 10\n",
    "sum_of_ab = a+b\n",
    "# subtraction\n",
    "diff_of_ab = a-b\n",
    "# multipication\n",
    "product_of_ab = a*b\n",
    "# division\n",
    "div_of_ab = a/b\n",
    "print(div_of_ab)\n",
    "# modulus\n",
    "rem_a_b = a%b\n",
    "print(rem_a_b)\n",
    "# power\n",
    "total_ram_size = 2**16\n",
    "print (total_ram_size)"
   ]
  },
  {
   "cell_type": "markdown",
   "metadata": {},
   "source": [
    "# String in Python\n",
    "## Collection of characters"
   ]
  },
  {
   "cell_type": "code",
   "execution_count": 153,
   "metadata": {},
   "outputs": [
    {
     "name": "stdout",
     "output_type": "stream",
     "text": [
      "Nirishma Shahi\n",
      "14\n",
      "N\n",
      "s\n",
      "i\n",
      "first last name Nir ishma Shahi\n"
     ]
    }
   ],
   "source": [
    "name = \"Nirishma Shahi\"\n",
    "print (name)\n",
    "#length of the string\n",
    "total_no_of_chars = len (name)\n",
    "print (total_no_of_chars)\n",
    "#get first floor\n",
    "first_char = name [0]\n",
    "print (first_char)\n",
    "# get fifth char\n",
    "fifth_char = name [4]\n",
    "print (fifth_char)\n",
    "# last char\n",
    "last_char = name [len(name)-1]\n",
    "print(last_char)\n",
    "# sub-string\n",
    "first_name = name[0:3] # 0,1,2\n",
    "last_name = name[3:14]\n",
    "print(\"first last name\", first_name, last_name)\n"
   ]
  },
  {
   "cell_type": "markdown",
   "metadata": {},
   "source": [
    "### Example of sub-string\n"
   ]
  },
  {
   "cell_type": "code",
   "execution_count": 154,
   "metadata": {},
   "outputs": [
    {
     "name": "stdout",
     "output_type": "stream",
     "text": [
      "Nirishma  Shahi\n"
     ]
    }
   ],
   "source": [
    "name = \"Nirishma Shahi\"\n",
    "first_name = name[:8]\n",
    "last_name = name[8:]\n",
    "print (first_name,last_name)\n"
   ]
  },
  {
   "cell_type": "markdown",
   "metadata": {},
   "source": [
    "#### IF\n",
    "#### ELIF\n",
    "#### ELSE"
   ]
  },
  {
   "cell_type": "code",
   "execution_count": 155,
   "metadata": {},
   "outputs": [
    {
     "name": "stdout",
     "output_type": "stream",
     "text": [
      "Its weekend\n",
      "test\n"
     ]
    }
   ],
   "source": [
    "day = int(input(\"Enter day\"))\n",
    "if day == 4:\n",
    "    print (\"I have to wake up at 5AM\")\n",
    "    print (\"I hae to go to office\")\n",
    "    print (\"Its Wednesday\")\n",
    "elif day == 5:\n",
    "    print (\"Its week day\")\n",
    "else:\n",
    "    print(\"Its weekend\")\n",
    "print('test')\n",
    "\n",
    "\n"
   ]
  },
  {
   "cell_type": "markdown",
   "metadata": {},
   "source": [
    "## Write a program to findout that the given number is odd or even."
   ]
  },
  {
   "cell_type": "code",
   "execution_count": 157,
   "metadata": {},
   "outputs": [
    {
     "name": "stdout",
     "output_type": "stream",
     "text": [
      "given number is odd\n"
     ]
    }
   ],
   "source": [
    "number = int(input(\"Enter number\"))\n",
    "if number % 2 == 0:\n",
    "    print (\"Given number is even number\")\n",
    "else:\n",
    "    print(\"given number is odd\") "
   ]
  },
  {
   "cell_type": "markdown",
   "metadata": {},
   "source": [
    "##### if time is\n",
    "##### in between 10-12 print its time for Python\n",
    "##### in between 12-14 \"DSA\" class\n",
    "##### 14-16 \"English\"\n",
    "##### default \"getting ready\""
   ]
  },
  {
   "cell_type": "code",
   "execution_count": 109,
   "metadata": {},
   "outputs": [
    {
     "name": "stdout",
     "output_type": "stream",
     "text": [
      "its time for python\n"
     ]
    }
   ],
   "source": [
    "time = int(input(\"Enter time\"))\n",
    "if time >=10 and time<12:\n",
    "    print (\"its time for python\")\n",
    "elif time >=12 and time<14:\n",
    "    print (\"DSA class\")\n",
    "elif time >=14 and time<16:\n",
    "    print (\"English\")\n",
    "else: \n",
    "    print (\"Getting Ready\") "
   ]
  },
  {
   "cell_type": "markdown",
   "metadata": {},
   "source": [
    "#### If you are from \"Nepal\" or \"India\" ticket for cablecar is 50 else 100"
   ]
  },
  {
   "cell_type": "code",
   "execution_count": 146,
   "metadata": {},
   "outputs": [
    {
     "name": "stdout",
     "output_type": "stream",
     "text": [
      "ticket for cablecar is Rs.50\n"
     ]
    }
   ],
   "source": [
    "country = \"Nepal\"\n",
    "if country == \"Nepal\" or country == \"India\":\n",
    "    print (\"ticket for cablecar is Rs.50\")\n",
    "else:\n",
    "    print (\"ticket for cablecar is Rs. 100\")"
   ]
  },
  {
   "cell_type": "markdown",
   "metadata": {},
   "source": [
    "in other words"
   ]
  },
  {
   "cell_type": "code",
   "execution_count": 158,
   "metadata": {},
   "outputs": [
    {
     "name": "stdout",
     "output_type": "stream",
     "text": [
      "ticket for cablecar is Rs. 50\n"
     ]
    }
   ],
   "source": [
    "country = input(\"Enter your country\")\n",
    "if country.lower() == \"nepal\" or country.lower() == \"india\":\n",
    "    print (\"ticket for cablecar is Rs. 50\")\n",
    "\n",
    "else:\n",
    "    print (\"ticket for cablecar is Rs.100\")\n",
    "    "
   ]
  },
  {
   "cell_type": "markdown",
   "metadata": {},
   "source": [
    "## LOOPS (iteration)\n",
    "  - While\n",
    "  - For\n"
   ]
  },
  {
   "cell_type": "code",
   "execution_count": 160,
   "metadata": {},
   "outputs": [
    {
     "name": "stdout",
     "output_type": "stream",
     "text": [
      "hello\n",
      "0\n",
      "hello\n",
      "1\n",
      "hello\n",
      "2\n",
      "hello\n",
      "3\n",
      "hello\n",
      "4\n",
      "hello\n",
      "5\n",
      "hello\n",
      "6\n",
      "hello\n",
      "7\n",
      "hello\n",
      "8\n",
      "hello\n",
      "9\n"
     ]
    }
   ],
   "source": [
    "from time import sleep\n",
    "counter = 0\n",
    "while counter <10:\n",
    "    print (\"hello\")\n",
    "    print (counter)\n",
    "    counter +=1\n",
    "    sleep(1)\n",
    "    "
   ]
  },
  {
   "cell_type": "code",
   "execution_count": 165,
   "metadata": {},
   "outputs": [
    {
     "name": "stdout",
     "output_type": "stream",
     "text": [
      "Hello10\n",
      "Hello9\n",
      "Hello8\n",
      "Hello7\n",
      "Hello6\n",
      "Hello5\n",
      "Hello4\n",
      "Hello3\n",
      "Hello2\n",
      "Hello1\n"
     ]
    }
   ],
   "source": [
    "from time import sleep\n",
    "counter = 10\n",
    "while counter>0:\n",
    "    print (\"Hello\" + str(counter))\n",
    "    counter -=1 \n",
    "    sleep(1)"
   ]
  },
  {
   "cell_type": "markdown",
   "metadata": {},
   "source": [
    "#### Find the sum of first n=100 natural numbers\n"
   ]
  },
  {
   "cell_type": "code",
   "execution_count": 168,
   "metadata": {},
   "outputs": [
    {
     "name": "stdout",
     "output_type": "stream",
     "text": [
      "5050\n"
     ]
    }
   ],
   "source": [
    "n = 100\n",
    "counter = 0 \n",
    "sum = 0 \n",
    "while counter <=n:\n",
    "    sum += counter\n",
    "    counter +=1\n",
    "print(sum)"
   ]
  },
  {
   "cell_type": "markdown",
   "metadata": {},
   "source": [
    "#### Find the sum of even numbers of first n natural numbers"
   ]
  },
  {
   "cell_type": "code",
   "execution_count": 169,
   "metadata": {},
   "outputs": [
    {
     "name": "stdout",
     "output_type": "stream",
     "text": [
      "2550\n"
     ]
    }
   ],
   "source": [
    "n = 100\n",
    "counter = 2\n",
    "sum = 0\n",
    "while counter <=n:\n",
    "    sum += counter\n",
    "    counter += 2\n",
    "print (sum)"
   ]
  },
  {
   "cell_type": "markdown",
   "metadata": {},
   "source": [
    "Applying if condition to this\n"
   ]
  },
  {
   "cell_type": "code",
   "execution_count": 171,
   "metadata": {},
   "outputs": [
    {
     "name": "stdout",
     "output_type": "stream",
     "text": [
      "2550\n"
     ]
    }
   ],
   "source": [
    "n = 100\n",
    "counter = 1\n",
    "sum = 0\n",
    "while counter <=n:\n",
    "    if counter%2 == 0:\n",
    "        sum += counter\n",
    "    counter +=1\n",
    "print (sum)"
   ]
  },
  {
   "cell_type": "markdown",
   "metadata": {},
   "source": [
    "### Reverse the given string \n",
    "   address = \"Kathmandu Nepal\""
   ]
  },
  {
   "cell_type": "code",
   "execution_count": 173,
   "metadata": {},
   "outputs": [
    {
     "name": "stdout",
     "output_type": "stream",
     "text": [
      "14\n",
      "lapeN udnamhtaK\n"
     ]
    }
   ],
   "source": [
    "address = \"Kathmandu Nepal\"\n",
    "Length= len(address)-1\n",
    "reversed_string = ''\n",
    "print(Length)\n",
    "while Length >=0: \n",
    "    reversed_string = reversed_string + address[Length]\n",
    "    Length -=1\n",
    "print (reversed_string)\n"
   ]
  },
  {
   "cell_type": "markdown",
   "metadata": {},
   "source": [
    "# Composite Data Types\n",
    "  1) Collection\n",
    "   - List [numbers]\n",
    "   - Tuple\n",
    "   - Set\n",
    "  2) Dictionary (Dict)"
   ]
  },
  {
   "cell_type": "markdown",
   "metadata": {},
   "source": [
    "# Python List\n",
    "list is ordered collecion of items. \n"
   ]
  },
  {
   "cell_type": "code",
   "execution_count": 1,
   "metadata": {},
   "outputs": [
    {
     "name": "stdout",
     "output_type": "stream",
     "text": [
      "1\n",
      "7\n",
      "5\n"
     ]
    }
   ],
   "source": [
    "numbers = [1,2,3,4,5,5,5]\n",
    "students = [\"Ram\", \"Sham\"]\n",
    "\n",
    "#access elements from list\n",
    "first_number = numbers[0]\n",
    "print(first_number)\n",
    "\n",
    "#count total number of items\n",
    "total_items = len(numbers)\n",
    "print(total_items)\n",
    "\n",
    "# last elements\n",
    "last_element = numbers [total_items - 1]\n",
    "print(last_element)"
   ]
  },
  {
   "cell_type": "markdown",
   "metadata": {},
   "source": [
    "# List Methods\n",
    " - append (appends new item at the end)\n",
    " - pop \n",
    " - remove\n",
    " - insert\n",
    " - count\n",
    " - clear ( delete all items)"
   ]
  },
  {
   "cell_type": "code",
   "execution_count": 3,
   "metadata": {},
   "outputs": [
    {
     "name": "stdout",
     "output_type": "stream",
     "text": [
      "[1, 4, 3, 5, 6, 7, 1, 1]\n",
      "[1, 4, 3, 5, 6, 7, 1, 1, 8]\n",
      "[1, 4, 3, 5, 6, 7, 1, 1]\n",
      "[1, 4, 3, 6, 7, 1, 1]\n",
      "[1, 4, 10, 3, 6, 7, 1, 1]\n",
      "3\n",
      "[1, 2, 3, 4]\n",
      "[]\n"
     ]
    }
   ],
   "source": [
    "numbers = [1,4,3,5,6,7,1,1]\n",
    "print(numbers)\n",
    "# append item\n",
    "numbers.append(8)\n",
    "print(numbers)\n",
    "#remove last item\n",
    "numbers.pop()\n",
    "print(numbers)\n",
    "#remove\n",
    "numbers.remove(5)\n",
    "print(numbers)\n",
    "#insert\n",
    "numbers.insert(2,10)\n",
    "print(numbers)\n",
    "#count\n",
    "print(numbers.count(1))\n",
    "\n",
    "numbers_1 = [1,2]\n",
    "numbers_2 = [3,4]\n",
    "numbers_1.extend(numbers_2)\n",
    "print(numbers_1)\n",
    "#clear\n",
    "numbers_1.clear()\n",
    "print(numbers_1)"
   ]
  },
  {
   "cell_type": "markdown",
   "metadata": {},
   "source": [
    "# Append \n",
    "  - Copy by reference"
   ]
  },
  {
   "cell_type": "code",
   "execution_count": 7,
   "metadata": {},
   "outputs": [
    {
     "name": "stdout",
     "output_type": "stream",
     "text": [
      "6 5\n",
      "['Ram', 'hari', 'Gopal']\n",
      "Ram exist in a\n"
     ]
    }
   ],
   "source": [
    "#\n",
    "a = 5\n",
    "b = a \n",
    "a = a+1\n",
    "print (a,b)\n",
    "\n",
    "a= ['Ram', 'hari']\n",
    "b = a\n",
    "a.append('Gopal')\n",
    "print(b)\n",
    "# check value exist in list\n",
    "if 'Ram' in a:\n",
    "    print ('Ram exist in a')\n",
    "    "
   ]
  },
  {
   "cell_type": "markdown",
   "metadata": {},
   "source": [
    "- b = a.copy()  {s hallow copy}"
   ]
  },
  {
   "cell_type": "code",
   "execution_count": 6,
   "metadata": {},
   "outputs": [
    {
     "name": "stdout",
     "output_type": "stream",
     "text": [
      "6 5\n",
      "['Ram', 'hari']\n",
      "Ram exist in a\n"
     ]
    }
   ],
   "source": [
    "#\n",
    "a = 5\n",
    "b = a \n",
    "a = a+1\n",
    "print (a,b)\n",
    "\n",
    "a= ['Ram', 'hari']\n",
    "b = a.copy()\n",
    "a.append('Gopal')\n",
    "print(b)\n",
    "# check value exist in list\n",
    "if 'Ram' in a:\n",
    "    print ('Ram exist in a')"
   ]
  },
  {
   "cell_type": "markdown",
   "metadata": {},
   "source": [
    "# Loop through list (iterate over list)\n",
    "  Find the sum of all items of given list"
   ]
  },
  {
   "cell_type": "code",
   "execution_count": 10,
   "metadata": {},
   "outputs": [
    {
     "name": "stdout",
     "output_type": "stream",
     "text": [
      "1\n",
      "2\n",
      "3\n",
      "4\n",
      "5\n",
      "6\n",
      "6\n",
      "27\n"
     ]
    }
   ],
   "source": [
    "numbers = [1,2,3,4,5,6,6]\n",
    "total_items = len(numbers)\n",
    "index = 0\n",
    "sum = 0\n",
    "while index<total_items:\n",
    "    element = numbers[index]\n",
    "    sum += element\n",
    "    print(element)\n",
    "    index +=1\n",
    "\n",
    "print (sum)"
   ]
  },
  {
   "cell_type": "markdown",
   "metadata": {},
   "source": [
    "Find the max value from the given list?"
   ]
  },
  {
   "cell_type": "code",
   "execution_count": 18,
   "metadata": {},
   "outputs": [
    {
     "name": "stdout",
     "output_type": "stream",
     "text": [
      "6\n"
     ]
    }
   ],
   "source": [
    "numbers = [1,2,3,4,5,6,6]\n",
    "total_items = len(numbers)\n",
    "index = 0 \n",
    "max_value = numbers[0]\n",
    "while index<total_items:\n",
    "     element > max_value \n",
    "     max_value = element\n",
    "     index +=1\n",
    "\n",
    "print (max_value)"
   ]
  },
  {
   "cell_type": "markdown",
   "metadata": {},
   "source": [
    "FIlter values\n"
   ]
  },
  {
   "cell_type": "code",
   "execution_count": 32,
   "metadata": {},
   "outputs": [
    {
     "name": "stdout",
     "output_type": "stream",
     "text": [
      "['Hari', 'Gopal']\n"
     ]
    }
   ],
   "source": [
    "students = [\"Ram\", \"Hari\", \"Gopal\"]\n",
    "filtered_students = [student for student in students if student != \"Ram\"]\n",
    "print(filtered_students)\n",
    "\n",
    "numbers = [1,3,2,4,5,7,11,9,8]\n",
    "# create list of even numbers from given list\n",
    "even_numbers = [number for number in numbers if number %2==0]\n"
   ]
  },
  {
   "cell_type": "markdown",
   "metadata": {},
   "source": [
    "Join all list items into single string"
   ]
  },
  {
   "cell_type": "code",
   "execution_count": null,
   "metadata": {},
   "outputs": [],
   "source": []
  }
 ],
 "metadata": {
  "kernelspec": {
   "display_name": "base",
   "language": "python",
   "name": "python3"
  },
  "language_info": {
   "codemirror_mode": {
    "name": "ipython",
    "version": 3
   },
   "file_extension": ".py",
   "mimetype": "text/x-python",
   "name": "python",
   "nbconvert_exporter": "python",
   "pygments_lexer": "ipython3",
   "version": "3.12.4"
  }
 },
 "nbformat": 4,
 "nbformat_minor": 2
}

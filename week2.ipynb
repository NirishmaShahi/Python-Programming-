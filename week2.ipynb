{
 "cells": [
  {
   "cell_type": "markdown",
   "metadata": {},
   "source": [
    "# For Loop "
   ]
  },
  {
   "cell_type": "markdown",
   "metadata": {},
   "source": [
    "#### Iterate over list, range (enumarator)"
   ]
  },
  {
   "cell_type": "code",
   "execution_count": 2,
   "metadata": {},
   "outputs": [
    {
     "name": "stdout",
     "output_type": "stream",
     "text": [
      "2\n",
      "4\n",
      "100\n",
      "[2, 4, 100]\n"
     ]
    }
   ],
   "source": [
    "numbers = [1, 1, 2, 3, 4, 5, 3, 11, 100]\n",
    "even_list =[]\n",
    "for num in numbers:\n",
    "    if num %2 == 0:\n",
    "        print (num)\n",
    "        even_list.append(num)\n",
    "\n",
    "print (even_list)"
   ]
  },
  {
   "cell_type": "code",
   "execution_count": 7,
   "metadata": {},
   "outputs": [
    {
     "name": "stdout",
     "output_type": "stream",
     "text": [
      "1\n",
      "1\n",
      "2\n",
      "3\n",
      "4\n",
      "5\n",
      "3\n",
      "11\n",
      "100\n"
     ]
    }
   ],
   "source": [
    "numbers = [1, 1, 2, 3, 4, 5, 3, 11, 100]\n",
    "even_list = []\n",
    "for num in numbers:\n",
    "    print(num)"
   ]
  },
  {
   "cell_type": "markdown",
   "metadata": {},
   "source": [
    "#### Create a list of even numbers from the given list"
   ]
  },
  {
   "cell_type": "code",
   "execution_count": 3,
   "metadata": {},
   "outputs": [
    {
     "name": "stdout",
     "output_type": "stream",
     "text": [
      "2\n",
      "4\n",
      "100\n",
      "[2, 4, 100]\n",
      "[1, 1, 3, 5, 11]\n",
      "2 exist in numbers\n"
     ]
    }
   ],
   "source": [
    "numbers = [1,1,2,3,4,5,11,100]\n",
    "\n",
    "even_list = []\n",
    "odd_list = []\n",
    "\n",
    "for num in numbers:\n",
    "    if num %2 == 0:\n",
    "        print (num)\n",
    "        even_list.append(num)\n",
    "    else:\n",
    "        odd_list.append(num)\n",
    "\n",
    "print(even_list)\n",
    "print(odd_list)\n",
    "\n",
    "if 2 in numbers:\n",
    "    print(\"2 exist in numbers\")"
   ]
  },
  {
   "cell_type": "markdown",
   "metadata": {},
   "source": [
    " #### Create a list of unique numbers from the list"
   ]
  },
  {
   "cell_type": "code",
   "execution_count": 5,
   "metadata": {},
   "outputs": [
    {
     "name": "stdout",
     "output_type": "stream",
     "text": [
      "[1, 2, 3, 4, 5, 11, 100]\n"
     ]
    }
   ],
   "source": [
    "numbers = [1, 1, 2, 3, 4, 5, 11, 100]\n",
    "\n",
    "unique_numbers = []\n",
    "for num in numbers:\n",
    "    if num not in unique_numbers:\n",
    "        unique_numbers.append(num)\n",
    "\n",
    "print (unique_numbers)"
   ]
  },
  {
   "cell_type": "code",
   "execution_count": 6,
   "metadata": {},
   "outputs": [
    {
     "name": "stdout",
     "output_type": "stream",
     "text": [
      "3\n",
      "8\n"
     ]
    }
   ],
   "source": [
    "sentence = \"Hello World\"\n",
    "vowel = \"aeiou\"\n",
    "total_vowel = 0\n",
    "total_consonants = 0\n",
    "for char in sentence.lower():\n",
    "    if char in vowel:\n",
    "        total_vowel +=1\n",
    "    else:\n",
    "        total_consonants +=1\n",
    "print (total_vowel)\n",
    "print (total_consonants)"
   ]
  },
  {
   "cell_type": "markdown",
   "metadata": {},
   "source": [
    "#### Find the sum of all items of given items"
   ]
  },
  {
   "cell_type": "code",
   "execution_count": 8,
   "metadata": {},
   "outputs": [
    {
     "name": "stdout",
     "output_type": "stream",
     "text": [
      "96\n",
      "average= 24.0\n"
     ]
    }
   ],
   "source": [
    "numbers = [100, 1, -10, 5]\n",
    "sum = 0 \n",
    "for num in numbers:\n",
    "    sum += num \n",
    "print (sum)\n",
    "print (f'average= {sum/len(numbers)}')"
   ]
  },
  {
   "cell_type": "markdown",
   "metadata": {},
   "source": [
    "# Range "
   ]
  },
  {
   "cell_type": "markdown",
   "metadata": {},
   "source": [
    "#### range (start, stop, step)"
   ]
  },
  {
   "cell_type": "code",
   "execution_count": 9,
   "metadata": {},
   "outputs": [
    {
     "name": "stdout",
     "output_type": "stream",
     "text": [
      "2500\n"
     ]
    }
   ],
   "source": [
    "sum = 0 \n",
    "for i in range (1, 101, 2):\n",
    "    sum += i\n",
    "print (sum)"
   ]
  },
  {
   "cell_type": "code",
   "execution_count": 10,
   "metadata": {},
   "outputs": [
    {
     "name": "stdout",
     "output_type": "stream",
     "text": [
      "1\n",
      "3\n",
      "5\n",
      "7\n",
      "9\n"
     ]
    }
   ],
   "source": [
    "range_of_100 = range (1, 10)\n",
    "sum = 0 \n",
    "for i in range (1, 11, 2):\n",
    "    print (i)"
   ]
  },
  {
   "cell_type": "markdown",
   "metadata": {},
   "source": [
    "# Inline for loop"
   ]
  },
  {
   "cell_type": "code",
   "execution_count": 11,
   "metadata": {},
   "outputs": [
    {
     "name": "stdout",
     "output_type": "stream",
     "text": [
      "[1, 200, 3, 5, 600, 8800, 19]\n"
     ]
    }
   ],
   "source": [
    "numbers = [1, 2, 3, 5, 6, 88, 19]\n",
    "transformed_list = [(num*100 if num%2 == 0 else num)for num in numbers]\n",
    "print (transformed_list)"
   ]
  },
  {
   "cell_type": "markdown",
   "metadata": {},
   "source": [
    "# Function "
   ]
  },
  {
   "cell_type": "markdown",
   "metadata": {},
   "source": [
    "#### Define function_name(parameters)\n",
    "#### Block of code return expression"
   ]
  },
  {
   "cell_type": "code",
   "execution_count": 12,
   "metadata": {},
   "outputs": [
    {
     "name": "stdout",
     "output_type": "stream",
     "text": [
      "15\n"
     ]
    }
   ],
   "source": [
    "def add (x, y):\n",
    "    sum = x + y\n",
    "    return sum\n",
    "sum = add (5, 10)\n",
    "print (sum)"
   ]
  },
  {
   "cell_type": "code",
   "execution_count": 13,
   "metadata": {},
   "outputs": [
    {
     "name": "stdout",
     "output_type": "stream",
     "text": [
      "15\n"
     ]
    }
   ],
   "source": [
    "def add (x, y):\n",
    "    sum = x + y\n",
    "    return sum\n",
    "sum = add (x= 5, y= 10)\n",
    "print (sum)"
   ]
  },
  {
   "cell_type": "code",
   "execution_count": 14,
   "metadata": {},
   "outputs": [
    {
     "name": "stdout",
     "output_type": "stream",
     "text": [
      "50\n"
     ]
    }
   ],
   "source": [
    "def multiply (x, y):\n",
    "    product = x * y\n",
    "    return product\n",
    "product = multiply (5, 10)\n",
    "print (product)"
   ]
  },
  {
   "cell_type": "markdown",
   "metadata": {},
   "source": [
    "#### write a function that accepts three operations (x, y, operation)\n",
    "#### based on the operation (+ - * /)\n",
    "#### perform addtion, subtract, multiply, division\n",
    "#### and then return the value of x operation y"
   ]
  },
  {
   "cell_type": "code",
   "execution_count": 15,
   "metadata": {},
   "outputs": [
    {
     "name": "stdout",
     "output_type": "stream",
     "text": [
      "3\n",
      "-1\n",
      "2\n",
      "Denominator can be zero\n",
      "None\n"
     ]
    }
   ],
   "source": [
    "def calculator (x, y, operation):\n",
    "    if operation == '+':\n",
    "        return x + y\n",
    "    elif operation == '-':\n",
    "        return x - y\n",
    "    elif operation == '*':\n",
    "        return x * y\n",
    "    elif operation == '/':\n",
    "        if y == 0:\n",
    "            print (\"Denominator can be zero\")\n",
    "            return \n",
    "        else:\n",
    "            return x/y\n",
    "    else: \n",
    "        print (\"Invalid operation\")\n",
    "sum = calculator(1,2, '+')\n",
    "print (sum)\n",
    "diff = calculator(1,2, '-')\n",
    "print (diff)\n",
    "multiply = calculator(1,2, '*')\n",
    "print (multiply)\n",
    "divide = calculator( 1, 0,'/')\n",
    "print (divide)"
   ]
  },
  {
   "cell_type": "code",
   "execution_count": 16,
   "metadata": {},
   "outputs": [
    {
     "name": "stdout",
     "output_type": "stream",
     "text": [
      "hello, World!\n"
     ]
    }
   ],
   "source": [
    "def greet(name = \"World\"):\n",
    "    print (f'hello, {name}!')\n",
    "\n",
    "greet()"
   ]
  },
  {
   "cell_type": "code",
   "execution_count": 17,
   "metadata": {},
   "outputs": [
    {
     "name": "stdout",
     "output_type": "stream",
     "text": [
      "hello, connecting to 127.0.0.2!\n"
     ]
    }
   ],
   "source": [
    "def connect (ip = \"127.0.0.1\"):\n",
    "    print (f'hello, connecting to {ip}!')\n",
    "connect(\"127.0.0.2\")"
   ]
  },
  {
   "cell_type": "code",
   "execution_count": 18,
   "metadata": {},
   "outputs": [
    {
     "name": "stdout",
     "output_type": "stream",
     "text": [
      "2\n"
     ]
    }
   ],
   "source": [
    "def sum (x = 1, y = 1):\n",
    "    return x + y\n",
    "add = sum ()\n",
    "print (add)"
   ]
  },
  {
   "cell_type": "markdown",
   "metadata": {},
   "source": [
    "# Arbitrary Argument"
   ]
  },
  {
   "cell_type": "code",
   "execution_count": 19,
   "metadata": {},
   "outputs": [
    {
     "name": "stdout",
     "output_type": "stream",
     "text": [
      "1 2\n",
      "(3, 4, 5, 6)\n",
      "None\n"
     ]
    }
   ],
   "source": [
    "def add (a, b, *args):\n",
    "    print (a, b)\n",
    "    print (args)\n",
    "\n",
    "a = add (1,2,3,4,5,6)\n",
    "print (a)\n"
   ]
  },
  {
   "cell_type": "markdown",
   "metadata": {},
   "source": [
    "# Return Statement"
   ]
  },
  {
   "cell_type": "code",
   "execution_count": 20,
   "metadata": {},
   "outputs": [
    {
     "name": "stdout",
     "output_type": "stream",
     "text": [
      "Number is even\n"
     ]
    }
   ],
   "source": [
    "def is_even_number (number):\n",
    "    if number %2 == 0:\n",
    "        return 'Number is even'\n",
    "       \n",
    "    return 'Number is odd'\n",
    "\n",
    "check_number = is_even_number(4)\n",
    "print (check_number)"
   ]
  },
  {
   "cell_type": "markdown",
   "metadata": {},
   "source": [
    "# Lamda Function"
   ]
  },
  {
   "cell_type": "code",
   "execution_count": 21,
   "metadata": {},
   "outputs": [
    {
     "name": "stdout",
     "output_type": "stream",
     "text": [
      "16\n"
     ]
    }
   ],
   "source": [
    "square = lambda x: x **2\n",
    "print (square(4))"
   ]
  },
  {
   "cell_type": "markdown",
   "metadata": {},
   "source": [
    "#### Write a function Swap two numbers without using a temporary variable"
   ]
  },
  {
   "cell_type": "code",
   "execution_count": 22,
   "metadata": {},
   "outputs": [
    {
     "name": "stdout",
     "output_type": "stream",
     "text": [
      "2 1\n"
     ]
    }
   ],
   "source": [
    "def swap_number(a,b):\n",
    "    a = a + b\n",
    "    b = a - b\n",
    "    a = a - b\n",
    "    return a, b\n",
    "a, b = swap_number(a= 1, b= 2)\n",
    "print (a, b)"
   ]
  },
  {
   "cell_type": "markdown",
   "metadata": {},
   "source": [
    "#### Write a function Determine if a string is a palindrome (palindrome is if we reverse it has same value)\n"
   ]
  },
  {
   "cell_type": "code",
   "execution_count": 23,
   "metadata": {},
   "outputs": [
    {
     "name": "stdout",
     "output_type": "stream",
     "text": [
      "Hello olleH\n",
      "word is not palindrome\n"
     ]
    }
   ],
   "source": [
    "word = \"Hello\"\n",
    "lenght = len(word)\n",
    "counter = lenght -1 \n",
    "reversed = ''\n",
    "while counter >=0:\n",
    "    reversed += word[counter]\n",
    "    counter -= 1\n",
    "print(word, reversed)\n",
    "if reversed == word:\n",
    "    print(\"word is palindrome\")\n",
    "else:\n",
    "    print(\"word is not palindrome\")"
   ]
  },
  {
   "cell_type": "markdown",
   "metadata": {},
   "source": [
    "#### Write a function to Count the number of vowels in a given string"
   ]
  },
  {
   "cell_type": "code",
   "execution_count": 25,
   "metadata": {},
   "outputs": [
    {
     "name": "stdout",
     "output_type": "stream",
     "text": [
      "3\n"
     ]
    }
   ],
   "source": [
    "def count_vowels(sentence):\n",
    "    total_vowel = 0\n",
    "    vowel = \"aeiou\"\n",
    "    for char in sentence:\n",
    "        if char.lower() in vowel:\n",
    "            total_vowel += 1\n",
    "    return total_vowel\n",
    "total_vowel = count_vowels(\"hello world\")\n",
    "print(total_vowel)"
   ]
  },
  {
   "cell_type": "markdown",
   "metadata": {},
   "source": [
    "#### Write a function Find the common elements between two lists"
   ]
  },
  {
   "cell_type": "code",
   "execution_count": 24,
   "metadata": {},
   "outputs": [
    {
     "name": "stdout",
     "output_type": "stream",
     "text": [
      "[1, 2, 4, 4, 5]\n"
     ]
    }
   ],
   "source": [
    "list1 = [1, 2, 3, 4, 5]  \n",
    "list2 = [1, 2, 4, 4, 5, 6] \n",
    "common_element = []\n",
    "for item1 in list1:\n",
    "    for item2 in list2:\n",
    "        if item1==item2:\n",
    "            common_element.append(item1)\n",
    "\n",
    "print(common_element)"
   ]
  },
  {
   "cell_type": "markdown",
   "metadata": {},
   "source": [
    "#### write a function to Check if a given number is a perfect square"
   ]
  },
  {
   "cell_type": "code",
   "execution_count": 39,
   "metadata": {},
   "outputs": [
    {
     "name": "stdout",
     "output_type": "stream",
     "text": [
      "True\n"
     ]
    }
   ],
   "source": [
    "number = 16\n",
    "\n",
    "def check_perfect_square(number):\n",
    "    if(number==1):\n",
    "        return True\n",
    "    \n",
    "    is_perfect_square = False\n",
    "    for i in range(1,number //2 +1):\n",
    "        if i*i ==number:\n",
    "            is_perfect_square = True\n",
    "            break\n",
    "    return is_perfect_square\n",
    "print (check_perfect_square(number))"
   ]
  },
  {
   "cell_type": "markdown",
   "metadata": {},
   "source": [
    "#### write a function Count the occurrences of a specific character in a string"
   ]
  },
  {
   "cell_type": "code",
   "execution_count": 28,
   "metadata": {},
   "outputs": [
    {
     "name": "stdout",
     "output_type": "stream",
     "text": [
      "Count of o: 1\n",
      "Count of i: 1\n"
     ]
    }
   ],
   "source": [
    "s = 'Python Programming'\n",
    "\n",
    "c = s.count('i')\n",
    "print('Count of o:', c)\n",
    "\n",
    "c = s.count('i')\n",
    "print('Count of i:', c)"
   ]
  },
  {
   "cell_type": "markdown",
   "metadata": {},
   "source": [
    "#### Write a function to Find the second largest number in a list"
   ]
  },
  {
   "cell_type": "code",
   "execution_count": 32,
   "metadata": {},
   "outputs": [
    {
     "name": "stdout",
     "output_type": "stream",
     "text": [
      "201 4\n"
     ]
    }
   ],
   "source": [
    "numbers = [4, 6, 3, 95, 201, 2] \n",
    "\n",
    "max_number = numbers[0]\n",
    "second_max_number  = numbers[0]\n",
    "\n",
    "for n in numbers:\n",
    "    if n > max_number:\n",
    "        max_number = n\n",
    "    elif n>second_max_number and n != max_number:\n",
    "        second_max_number = n\n",
    "\n",
    "\n",
    "print(max_number,second_max_number)"
   ]
  },
  {
   "cell_type": "markdown",
   "metadata": {},
   "source": [
    "#### Write a function to remove duplicates from a list"
   ]
  },
  {
   "cell_type": "code",
   "execution_count": 29,
   "metadata": {},
   "outputs": [
    {
     "name": "stdout",
     "output_type": "stream",
     "text": [
      "[1, 2, 3, 4, 5]\n"
     ]
    }
   ],
   "source": [
    "list1 = [1, 2, 3, 3, 4, 4, 5, 5]\n",
    "unique_numbers = []\n",
    "for n in list1:\n",
    "    if n  not in unique_numbers:\n",
    "        unique_numbers.append(n)\n",
    "\n",
    "print(unique_numbers)"
   ]
  },
  {
   "cell_type": "markdown",
   "metadata": {},
   "source": [
    "##### Write a function that prints the multiplication table of given number"
   ]
  },
  {
   "cell_type": "code",
   "execution_count": 30,
   "metadata": {},
   "outputs": [
    {
     "name": "stdout",
     "output_type": "stream",
     "text": [
      "5 x 1 = 5\n",
      "5 x 2 = 10\n",
      "5 x 3 = 15\n",
      "5 x 4 = 20\n",
      "5 x 5 = 25\n",
      "5 x 6 = 30\n",
      "5 x 7 = 35\n",
      "5 x 8 = 40\n",
      "5 x 9 = 45\n",
      "5 x 10 = 50\n"
     ]
    }
   ],
   "source": [
    "num = 5\n",
    "for i in range(1, 11):\n",
    "   print(num, 'x', i, '=', num*i)"
   ]
  },
  {
   "cell_type": "markdown",
   "metadata": {},
   "source": [
    "#### Write a function to find out if the number is prime number or not"
   ]
  },
  {
   "cell_type": "code",
   "execution_count": 40,
   "metadata": {},
   "outputs": [
    {
     "name": "stdout",
     "output_type": "stream",
     "text": [
      "True\n"
     ]
    }
   ],
   "source": [
    "def prime(n):\n",
    "    is_prime = True \n",
    "    for i in range(2, int(n/2)+1):\n",
    "        if n %1 == 0:\n",
    "            is_prime = False\n",
    "            break\n",
    "    return is_prime\n",
    "    \n",
    "print(prime(2))"
   ]
  }
 ],
 "metadata": {
  "kernelspec": {
   "display_name": "base",
   "language": "python",
   "name": "python3"
  },
  "language_info": {
   "codemirror_mode": {
    "name": "ipython",
    "version": 3
   },
   "file_extension": ".py",
   "mimetype": "text/x-python",
   "name": "python",
   "nbconvert_exporter": "python",
   "pygments_lexer": "ipython3",
   "version": "3.12.4"
  }
 },
 "nbformat": 4,
 "nbformat_minor": 2
}
